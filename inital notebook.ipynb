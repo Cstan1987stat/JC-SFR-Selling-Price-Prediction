{
 "cells": [
  {
   "cell_type": "markdown",
   "metadata": {},
   "source": [
    "# 'Johnson County' Property Exploratory Data Analysis"
   ]
  },
  {
   "cell_type": "markdown",
   "metadata": {},
   "source": [
    "## Introduction"
   ]
  },
  {
   "cell_type": "markdown",
   "metadata": {},
   "source": [
    "\n",
    "Our main source of data comes from Redfin, https://www.redfin.com/, which is a website similar to Zillow that allows you to 'Find the right home at the right price' [1]. In addition to looking at available properties, there is an additional option that shows the properties that have been sold. A certain reason why this Redfin was utilized as opposed to Zillow, a similar website, was that Redfin allowed your search queries to be downloaded as a CSV file. The only issue with this was that depending on what was searched, a maximum of 350 housing records would be available to download. As a result, for the 2,000 records listed on Redfin for a Johnson County search result for houses sold in the past 3 months (October 10 was the day the search took place), only 350 would be available to download. \n",
    "\n",
    "However, we could sort of trick the system by searching by certain zipcodes in Johnson County. As long as there are not more than 350 housing records for that zipcode, we should be able to download all the records for that zipcode.\n",
    "\n",
    "To find a list of zipcodes in Johnson County, we utilizied a list from Zillow https://www.zillow.com/browse/homes/ks/johnson-county/, where all the zipcodes from the first column were used to search for housing records on Redfin. Since I did not utilize both columns of zipcodes, our dataset won't be representative of all properties sold in Johnson County within the past 3 months (hence why Johnson County is in quotes).\n",
    "\n",
    "Although time-consuming, all the queries per zipcode were run and downloaded. Once all the CSV files were downloaded, they were placed into a folder. With the help of Power Query in Excel, all the files in this folder were then able to be combined. Once combined, columns not necessary were deleted, and the newer large dataset was exported as a CSV file."
   ]
  },
  {
   "cell_type": "markdown",
   "metadata": {},
   "source": [
    "## Loading in and changing column names, and filtering through the 'Property Type' column."
   ]
  },
  {
   "cell_type": "code",
   "execution_count": 445,
   "metadata": {},
   "outputs": [
    {
     "name": "stdout",
     "output_type": "stream",
     "text": [
      "(1809, 15)\n"
     ]
    },
    {
     "data": {
      "text/html": [
       "<div>\n",
       "<style scoped>\n",
       "    .dataframe tbody tr th:only-of-type {\n",
       "        vertical-align: middle;\n",
       "    }\n",
       "\n",
       "    .dataframe tbody tr th {\n",
       "        vertical-align: top;\n",
       "    }\n",
       "\n",
       "    .dataframe thead th {\n",
       "        text-align: right;\n",
       "    }\n",
       "</style>\n",
       "<table border=\"1\" class=\"dataframe\">\n",
       "  <thead>\n",
       "    <tr style=\"text-align: right;\">\n",
       "      <th></th>\n",
       "      <th>SALE TYPE</th>\n",
       "      <th>SOLD DATE</th>\n",
       "      <th>PROPERTY TYPE</th>\n",
       "      <th>CITY</th>\n",
       "      <th>STATE OR PROVINCE</th>\n",
       "      <th>ZIP OR POSTAL CODE</th>\n",
       "      <th>PRICE</th>\n",
       "      <th>BEDS</th>\n",
       "      <th>BATHS</th>\n",
       "      <th>LOCATION</th>\n",
       "      <th>SQUARE FEET</th>\n",
       "      <th>LOT SIZE</th>\n",
       "      <th>YEAR BUILT</th>\n",
       "      <th>$/SQUARE FEET</th>\n",
       "      <th>HOA/MONTH</th>\n",
       "    </tr>\n",
       "  </thead>\n",
       "  <tbody>\n",
       "    <tr>\n",
       "      <th>0</th>\n",
       "      <td>In accordance with local MLS rules, some MLS l...</td>\n",
       "      <td>NaN</td>\n",
       "      <td>NaN</td>\n",
       "      <td>NaN</td>\n",
       "      <td>NaN</td>\n",
       "      <td>NaN</td>\n",
       "      <td>NaN</td>\n",
       "      <td>NaN</td>\n",
       "      <td>NaN</td>\n",
       "      <td>NaN</td>\n",
       "      <td>NaN</td>\n",
       "      <td>NaN</td>\n",
       "      <td>NaN</td>\n",
       "      <td>NaN</td>\n",
       "      <td>NaN</td>\n",
       "    </tr>\n",
       "    <tr>\n",
       "      <th>1</th>\n",
       "      <td>PAST SALE</td>\n",
       "      <td>7/16/2024</td>\n",
       "      <td>Single Family Residential</td>\n",
       "      <td>Prairie Village</td>\n",
       "      <td>KS</td>\n",
       "      <td>66207.0</td>\n",
       "      <td>695000.0</td>\n",
       "      <td>4.0</td>\n",
       "      <td>2.5</td>\n",
       "      <td>Kenilworth</td>\n",
       "      <td>3356.0</td>\n",
       "      <td>16223.0</td>\n",
       "      <td>1963.0</td>\n",
       "      <td>207.0</td>\n",
       "      <td>7.0</td>\n",
       "    </tr>\n",
       "    <tr>\n",
       "      <th>2</th>\n",
       "      <td>PAST SALE</td>\n",
       "      <td>9/26/2024</td>\n",
       "      <td>Single Family Residential</td>\n",
       "      <td>Shawnee</td>\n",
       "      <td>KS</td>\n",
       "      <td>66226.0</td>\n",
       "      <td>469900.0</td>\n",
       "      <td>3.0</td>\n",
       "      <td>3.0</td>\n",
       "      <td>Villas of Greenview Ridge</td>\n",
       "      <td>2540.0</td>\n",
       "      <td>8777.0</td>\n",
       "      <td>2004.0</td>\n",
       "      <td>185.0</td>\n",
       "      <td>46.0</td>\n",
       "    </tr>\n",
       "    <tr>\n",
       "      <th>3</th>\n",
       "      <td>PAST SALE</td>\n",
       "      <td>10/1/2024</td>\n",
       "      <td>Single Family Residential</td>\n",
       "      <td>Lenexa</td>\n",
       "      <td>KS</td>\n",
       "      <td>66219.0</td>\n",
       "      <td>600000.0</td>\n",
       "      <td>4.0</td>\n",
       "      <td>3.0</td>\n",
       "      <td>Cross Point Creek Cottages</td>\n",
       "      <td>3185.0</td>\n",
       "      <td>3733.0</td>\n",
       "      <td>2008.0</td>\n",
       "      <td>188.0</td>\n",
       "      <td>NaN</td>\n",
       "    </tr>\n",
       "    <tr>\n",
       "      <th>4</th>\n",
       "      <td>PAST SALE</td>\n",
       "      <td>8/28/2024</td>\n",
       "      <td>Condo/Co-op</td>\n",
       "      <td>Leawood</td>\n",
       "      <td>KS</td>\n",
       "      <td>66209.0</td>\n",
       "      <td>950000.0</td>\n",
       "      <td>2.0</td>\n",
       "      <td>2.5</td>\n",
       "      <td>Parkway 133</td>\n",
       "      <td>2829.0</td>\n",
       "      <td>NaN</td>\n",
       "      <td>2007.0</td>\n",
       "      <td>336.0</td>\n",
       "      <td>1084.0</td>\n",
       "    </tr>\n",
       "  </tbody>\n",
       "</table>\n",
       "</div>"
      ],
      "text/plain": [
       "                                           SALE TYPE  SOLD DATE  \\\n",
       "0  In accordance with local MLS rules, some MLS l...        NaN   \n",
       "1                                          PAST SALE  7/16/2024   \n",
       "2                                          PAST SALE  9/26/2024   \n",
       "3                                          PAST SALE  10/1/2024   \n",
       "4                                          PAST SALE  8/28/2024   \n",
       "\n",
       "               PROPERTY TYPE             CITY STATE OR PROVINCE  \\\n",
       "0                        NaN              NaN               NaN   \n",
       "1  Single Family Residential  Prairie Village                KS   \n",
       "2  Single Family Residential          Shawnee                KS   \n",
       "3  Single Family Residential           Lenexa                KS   \n",
       "4                Condo/Co-op          Leawood                KS   \n",
       "\n",
       "   ZIP OR POSTAL CODE     PRICE  BEDS  BATHS                    LOCATION  \\\n",
       "0                 NaN       NaN   NaN    NaN                         NaN   \n",
       "1             66207.0  695000.0   4.0    2.5                  Kenilworth   \n",
       "2             66226.0  469900.0   3.0    3.0   Villas of Greenview Ridge   \n",
       "3             66219.0  600000.0   4.0    3.0  Cross Point Creek Cottages   \n",
       "4             66209.0  950000.0   2.0    2.5                 Parkway 133   \n",
       "\n",
       "   SQUARE FEET  LOT SIZE  YEAR BUILT  $/SQUARE FEET  HOA/MONTH  \n",
       "0          NaN       NaN         NaN            NaN        NaN  \n",
       "1       3356.0   16223.0      1963.0          207.0        7.0  \n",
       "2       2540.0    8777.0      2004.0          185.0       46.0  \n",
       "3       3185.0    3733.0      2008.0          188.0        NaN  \n",
       "4       2829.0       NaN      2007.0          336.0     1084.0  "
      ]
     },
     "execution_count": 445,
     "metadata": {},
     "output_type": "execute_result"
    }
   ],
   "source": [
    "# Importing pandas library\n",
    "import pandas as pd\n",
    "\n",
    "# Reading in our datafile as a dataframe\n",
    "df = pd.read_csv('jcre.csv', encoding='latin1')  \n",
    "'''\n",
    "Usually, specifying the encoding parameter is not necessary, but for some reason, the csv file would not be read in. \n",
    "Luckily, we were able to find it was loaded properly in using the 'latin1' setting for the encoding hyperparamter.\n",
    "'''\n",
    "\n",
    "# Viewing the number of rows and columns in our dataframe along with the first 5 rows.\n",
    "print(df.shape)\n",
    "df.head()"
   ]
  },
  {
   "cell_type": "code",
   "execution_count": 446,
   "metadata": {},
   "outputs": [
    {
     "data": {
      "text/html": [
       "<div>\n",
       "<style scoped>\n",
       "    .dataframe tbody tr th:only-of-type {\n",
       "        vertical-align: middle;\n",
       "    }\n",
       "\n",
       "    .dataframe tbody tr th {\n",
       "        vertical-align: top;\n",
       "    }\n",
       "\n",
       "    .dataframe thead th {\n",
       "        text-align: right;\n",
       "    }\n",
       "</style>\n",
       "<table border=\"1\" class=\"dataframe\">\n",
       "  <thead>\n",
       "    <tr style=\"text-align: right;\">\n",
       "      <th></th>\n",
       "      <th>Sale type</th>\n",
       "      <th>Sold date</th>\n",
       "      <th>Property type</th>\n",
       "      <th>City</th>\n",
       "      <th>State or province</th>\n",
       "      <th>Zip or postal code</th>\n",
       "      <th>Price</th>\n",
       "      <th>Beds</th>\n",
       "      <th>Baths</th>\n",
       "      <th>Location</th>\n",
       "      <th>Square feet</th>\n",
       "      <th>Lot size</th>\n",
       "      <th>Year built</th>\n",
       "      <th>$/square feet</th>\n",
       "      <th>Hoa/month</th>\n",
       "    </tr>\n",
       "  </thead>\n",
       "  <tbody>\n",
       "    <tr>\n",
       "      <th>1</th>\n",
       "      <td>PAST SALE</td>\n",
       "      <td>7/16/2024</td>\n",
       "      <td>Single Family Residential</td>\n",
       "      <td>Prairie Village</td>\n",
       "      <td>KS</td>\n",
       "      <td>66207.0</td>\n",
       "      <td>695000.0</td>\n",
       "      <td>4.0</td>\n",
       "      <td>2.5</td>\n",
       "      <td>Kenilworth</td>\n",
       "      <td>3356.0</td>\n",
       "      <td>16223.0</td>\n",
       "      <td>1963.0</td>\n",
       "      <td>207.0</td>\n",
       "      <td>7.0</td>\n",
       "    </tr>\n",
       "    <tr>\n",
       "      <th>2</th>\n",
       "      <td>PAST SALE</td>\n",
       "      <td>9/26/2024</td>\n",
       "      <td>Single Family Residential</td>\n",
       "      <td>Shawnee</td>\n",
       "      <td>KS</td>\n",
       "      <td>66226.0</td>\n",
       "      <td>469900.0</td>\n",
       "      <td>3.0</td>\n",
       "      <td>3.0</td>\n",
       "      <td>Villas of Greenview Ridge</td>\n",
       "      <td>2540.0</td>\n",
       "      <td>8777.0</td>\n",
       "      <td>2004.0</td>\n",
       "      <td>185.0</td>\n",
       "      <td>46.0</td>\n",
       "    </tr>\n",
       "    <tr>\n",
       "      <th>3</th>\n",
       "      <td>PAST SALE</td>\n",
       "      <td>10/1/2024</td>\n",
       "      <td>Single Family Residential</td>\n",
       "      <td>Lenexa</td>\n",
       "      <td>KS</td>\n",
       "      <td>66219.0</td>\n",
       "      <td>600000.0</td>\n",
       "      <td>4.0</td>\n",
       "      <td>3.0</td>\n",
       "      <td>Cross Point Creek Cottages</td>\n",
       "      <td>3185.0</td>\n",
       "      <td>3733.0</td>\n",
       "      <td>2008.0</td>\n",
       "      <td>188.0</td>\n",
       "      <td>NaN</td>\n",
       "    </tr>\n",
       "    <tr>\n",
       "      <th>5</th>\n",
       "      <td>PAST SALE</td>\n",
       "      <td>8/22/2024</td>\n",
       "      <td>Single Family Residential</td>\n",
       "      <td>Prairie Village</td>\n",
       "      <td>KS</td>\n",
       "      <td>66207.0</td>\n",
       "      <td>4275417.0</td>\n",
       "      <td>5.0</td>\n",
       "      <td>6.5</td>\n",
       "      <td>Meadowbrook Park</td>\n",
       "      <td>6680.0</td>\n",
       "      <td>13877.0</td>\n",
       "      <td>2024.0</td>\n",
       "      <td>640.0</td>\n",
       "      <td>816.0</td>\n",
       "    </tr>\n",
       "    <tr>\n",
       "      <th>6</th>\n",
       "      <td>PAST SALE</td>\n",
       "      <td>8/30/2024</td>\n",
       "      <td>Single Family Residential</td>\n",
       "      <td>Fairway</td>\n",
       "      <td>KS</td>\n",
       "      <td>66205.0</td>\n",
       "      <td>400000.0</td>\n",
       "      <td>3.0</td>\n",
       "      <td>2.5</td>\n",
       "      <td>Mission Highlands</td>\n",
       "      <td>1188.0</td>\n",
       "      <td>8399.0</td>\n",
       "      <td>1948.0</td>\n",
       "      <td>337.0</td>\n",
       "      <td>NaN</td>\n",
       "    </tr>\n",
       "  </tbody>\n",
       "</table>\n",
       "</div>"
      ],
      "text/plain": [
       "   Sale type  Sold date              Property type             City  \\\n",
       "1  PAST SALE  7/16/2024  Single Family Residential  Prairie Village   \n",
       "2  PAST SALE  9/26/2024  Single Family Residential          Shawnee   \n",
       "3  PAST SALE  10/1/2024  Single Family Residential           Lenexa   \n",
       "5  PAST SALE  8/22/2024  Single Family Residential  Prairie Village   \n",
       "6  PAST SALE  8/30/2024  Single Family Residential          Fairway   \n",
       "\n",
       "  State or province  Zip or postal code      Price  Beds  Baths  \\\n",
       "1                KS             66207.0   695000.0   4.0    2.5   \n",
       "2                KS             66226.0   469900.0   3.0    3.0   \n",
       "3                KS             66219.0   600000.0   4.0    3.0   \n",
       "5                KS             66207.0  4275417.0   5.0    6.5   \n",
       "6                KS             66205.0   400000.0   3.0    2.5   \n",
       "\n",
       "                     Location  Square feet  Lot size  Year built  \\\n",
       "1                  Kenilworth       3356.0   16223.0      1963.0   \n",
       "2   Villas of Greenview Ridge       2540.0    8777.0      2004.0   \n",
       "3  Cross Point Creek Cottages       3185.0    3733.0      2008.0   \n",
       "5            Meadowbrook Park       6680.0   13877.0      2024.0   \n",
       "6           Mission Highlands       1188.0    8399.0      1948.0   \n",
       "\n",
       "   $/square feet  Hoa/month  \n",
       "1          207.0        7.0  \n",
       "2          185.0       46.0  \n",
       "3          188.0        NaN  \n",
       "5          640.0      816.0  \n",
       "6          337.0        NaN  "
      ]
     },
     "execution_count": 446,
     "metadata": {},
     "output_type": "execute_result"
    }
   ],
   "source": [
    "# Changing all the columns to only have the first digit capitalized and the rest being lower case. \n",
    "df.columns = [c.capitalize() for c in df.columns ]\n",
    "\n",
    "# Filtering through dataframe to only include rows with 'Single Family Residental' in the 'Property type' column.\n",
    "df = df[df['Property type'] == 'Single Family Residential'] \n",
    "\n",
    "# Viewing the first five row sof our dataframe.\n",
    "df.head()"
   ]
  },
  {
   "cell_type": "markdown",
   "metadata": {},
   "source": [
    "## Data overview, columns, and structure"
   ]
  },
  {
   "cell_type": "code",
   "execution_count": 447,
   "metadata": {},
   "outputs": [
    {
     "name": "stdout",
     "output_type": "stream",
     "text": [
      "Number of rows and columns in our current dataframe:  (1603, 15)\n",
      "\n",
      "<class 'pandas.core.frame.DataFrame'>\n",
      "Index: 1603 entries, 1 to 1808\n",
      "Data columns (total 15 columns):\n",
      " #   Column              Non-Null Count  Dtype  \n",
      "---  ------              --------------  -----  \n",
      " 0   Sale type           1603 non-null   object \n",
      " 1   Sold date           1599 non-null   object \n",
      " 2   Property type       1603 non-null   object \n",
      " 3   City                1603 non-null   object \n",
      " 4   State or province   1603 non-null   object \n",
      " 5   Zip or postal code  1603 non-null   float64\n",
      " 6   Price               1602 non-null   float64\n",
      " 7   Beds                1603 non-null   float64\n",
      " 8   Baths               1603 non-null   float64\n",
      " 9   Location            1565 non-null   object \n",
      " 10  Square feet         1599 non-null   float64\n",
      " 11  Lot size            1595 non-null   float64\n",
      " 12  Year built          1532 non-null   float64\n",
      " 13  $/square feet       1598 non-null   float64\n",
      " 14  Hoa/month           915 non-null    float64\n",
      "dtypes: float64(9), object(6)\n",
      "memory usage: 200.4+ KB\n",
      "None\n"
     ]
    }
   ],
   "source": [
    "# Viewing the number of columns and rows in the dataframe\n",
    "print('Number of rows and columns in our current dataframe: ', df.shape)\n",
    "\n",
    "# Printing a blank line in between the two print statements.\n",
    "print() \n",
    "\n",
    "# Viewing information such as column data types, number of non missing values, and memory used.\n",
    "print(df.info())"
   ]
  },
  {
   "cell_type": "markdown",
   "metadata": {},
   "source": [
    "From above, our current data frame has 1797 rows/observations and 15 columns/features.\n",
    "\n",
    "We can also see how each of our columns/features are treated in our dataframe. For example, nine columns are treated are numerical (float) while six are treated as categorical (string).\n",
    "\n",
    "Based on the above and some common knowledge, we can learn more about our current variables.\n",
    "* **Sale type** -> This column is most likely in reference to different search results on Redfin, either viewing renting options, sold, and current properties available.\n",
    "* **Sold date** -> This column represents the date that the property was sold.\n",
    "* **Property type** -> This represents what type of property is being sold.\n",
    "* **City** -> This columns represents the city the property was sold in.\n",
    "* **State or province** -> This columns represents the state the property was sold in.\n",
    "* **Zip or postal code** -> This column houses the zipcodes where each of the properties sold resides. Although treated as numerical, this is technically a categorical variable.\n",
    "* **Price** -> Our target variable, the number of dollars a property was sold for.\n",
    "* **Beds** -> This column represents the number of bedrooms in the property.\n",
    "* **Bath** -> This column represents the number of bathrooms in the property.\n",
    "* **Location** -> This column seems to represent the neighborhood the property resides in.\n",
    "* **Square feet** -> This column represents the number of square feet in the residence.\n",
    "* **Lot size** -> This column represents the number of square feet of land the property resides on.\n",
    "* **Year built** -> This columns represents the year the property was built.\n",
    "* **$/square feet** -> Based on the price the property was sold, the price per square foot. \n",
    "* **Hoa/month** -> This column represents the hoa fee per month."
   ]
  },
  {
   "cell_type": "markdown",
   "metadata": {},
   "source": [
    "We can already disqualify the 'Price' variable as a predictor variable since it is the variable we are trying to predict. Additionally, I believe the '$/square feet' column is actually calculated as 'Price' / 'Square feet', which means this variable could be a good predictor for the selling price. Moreover, since the 'Sale type' column is the same for all of our rows (as all of these properties have been sold), it won't provide any insight into predicting the selling price. Similarly, the 'State or Province' column contains the same value for all entries, making it equally unhelpful. Given that the dataset was previously filtered to include only Single Family Residential properties that were sold, this column will also not be useful."
   ]
  },
  {
   "cell_type": "code",
   "execution_count": 448,
   "metadata": {},
   "outputs": [
    {
     "name": "stdout",
     "output_type": "stream",
     "text": [
      "<class 'pandas.core.frame.DataFrame'>\n",
      "Index: 1603 entries, 1 to 1808\n",
      "Data columns (total 10 columns):\n",
      " #   Column              Non-Null Count  Dtype  \n",
      "---  ------              --------------  -----  \n",
      " 0   City                1603 non-null   object \n",
      " 1   Zip or postal code  1603 non-null   float64\n",
      " 2   Price               1602 non-null   float64\n",
      " 3   Beds                1603 non-null   float64\n",
      " 4   Baths               1603 non-null   float64\n",
      " 5   Location            1565 non-null   object \n",
      " 6   Square feet         1599 non-null   float64\n",
      " 7   Lot size            1595 non-null   float64\n",
      " 8   Year built          1532 non-null   float64\n",
      " 9   Hoa/month           915 non-null    float64\n",
      "dtypes: float64(8), object(2)\n",
      "memory usage: 137.8+ KB\n"
     ]
    }
   ],
   "source": [
    "# Deleting unnecessary columns from our dataframe.\n",
    "del df['State or province']\n",
    "del df['$/square feet']\n",
    "del df['Sale type']\n",
    "del df['Property type']\n",
    "del df['Sold date']\n",
    "\n",
    "# Viewing the information for the dataframe without the 5 above columns\n",
    "df.info()\n"
   ]
  },
  {
   "cell_type": "markdown",
   "metadata": {},
   "source": [
    "After deleting those four columns, we now have four variables treated as categorical, while the remaining are numerical. Common sense dictates that the categorical variables are 'City,' 'Zip or postal code,' and 'Location.' \n",
    "\n",
    "However, isn't our model currently treating 'Zip or postal code' as a numerical variable? Although it is, this doesn’t imply it’s handled properly. For instance, since 'Zip or postal code' values consist of five numerical digits, the model will assume that higher values represent something greater than lower values. Even though each 'Zip or postal code' is unique, a machine learning model might misinterpret the numerical differences, leading to erroneous conclusions. To circumvent this, we need to create new dummy columns for each unique 'Zip or postal code' (this process will be detailed later). Indeed, the same approach must be applied to the 'City' and 'Location' variables if they are chosen to predict the selling price. All remaining variables, aside from the three mentioned, are correctly interpreted as numerical."
   ]
  },
  {
   "cell_type": "markdown",
   "metadata": {},
   "source": [
    "## Handling Missing values"
   ]
  },
  {
   "cell_type": "code",
   "execution_count": 449,
   "metadata": {},
   "outputs": [
    {
     "data": {
      "text/plain": [
       "City                    0\n",
       "Zip or postal code      0\n",
       "Price                   1\n",
       "Beds                    0\n",
       "Baths                   0\n",
       "Location               38\n",
       "Square feet             4\n",
       "Lot size                8\n",
       "Year built             71\n",
       "Hoa/month             688\n",
       "dtype: int64"
      ]
     },
     "execution_count": 449,
     "metadata": {},
     "output_type": "execute_result"
    }
   ],
   "source": [
    "# Viewing how many missing values there are in our dataframe.\n",
    "df.isnull().sum()"
   ]
  },
  {
   "cell_type": "markdown",
   "metadata": {},
   "source": [
    "As observed, four columns have no missing values. \n",
    "The primary consideration is how to handle the missing values in our data frame\n",
    "\n",
    "With only 1 missing value in the 'Price' column, it is practical to instead remove that observation/row from our data frame. Additionally, given that only four missing values occur in the 'Square feet' column, removing these rows may be benefical."
   ]
  },
  {
   "cell_type": "code",
   "execution_count": 450,
   "metadata": {},
   "outputs": [
    {
     "name": "stdout",
     "output_type": "stream",
     "text": [
      "99.68808484092327\n"
     ]
    }
   ],
   "source": [
    "# Copying our inital dataframe to a new dataframe.\n",
    "df_na_set_trial_1 = df.copy()\n",
    "\n",
    "# Finding out the length of the copied dataframe.\n",
    "og_length = df_na_set_trial_1.shape[0]\n",
    "\n",
    "# Dropping the rows with missing values in the 'Price' and/or 'Square feet' columns.\n",
    "df_na_set_trial_1 = df_na_set_trial_1.dropna(subset=['Price','Square feet'])\n",
    "\n",
    "# Finding out the length of the copied dataframe with fewer missing values.\n",
    "new_length = df_na_set_trial_1.shape[0]\n",
    "\n",
    "# Finding out how much data was lost by removing rows entirely.\n",
    "print(new_length/og_length * 100)"
   ]
  },
  {
   "cell_type": "markdown",
   "metadata": {},
   "source": [
    "As we can see from the above output, when we remove the rows that have missing values in the 'Price' and 'Sold date' columns, we still have 99.68% of the original dataset. If the above number were closer to 90%, we would lose 10% of the original dataframe. Since that 10% of the data could hold valuable information, it may be better to use other methods, namely imputation. \n",
    "\n",
    "The simple process of imputation involves filling in missing values with a certain value such as the average (mean), median, or mode for numerical data, and the most frequent category for categorical data. The main issue with this method is that the new value could be unrepresentative of that property when compared with other columns in the dataframe. Consequently, other methods could be used that take this into account, but since the main point of this project isn't focused on dealing with missing values, we won’t explore these methods further."
   ]
  },
  {
   "cell_type": "code",
   "execution_count": 451,
   "metadata": {},
   "outputs": [],
   "source": [
    "# Dropping all the rows with missing values in either the 'Price' or 'Square feet' columns.\n",
    "df = df.dropna(subset=['Price','Square feet'])\n",
    "\n",
    "# Viewing how many missing values per column in our dataframe.\n",
    "df.isnull().sum"
   ]
  },
  {
   "cell_type": "markdown",
   "metadata": {},
   "source": [
    "Referencing the descriptions of each of our variables, we can further consider why there might be missing data. For instance, regarding the 'Hoa/month' column, it's possible that there could be no zero value, resulting in a missing entry rather than a reported zero."
   ]
  },
  {
   "cell_type": "code",
   "execution_count": 453,
   "metadata": {},
   "outputs": [
    {
     "name": "stdout",
     "output_type": "stream",
     "text": [
      "Minimum value for Hoa/month 1.0\n"
     ]
    }
   ],
   "source": [
    "# Importing numpy library.\n",
    "import numpy as np\n",
    "\n",
    "# Viewing the minimum value in 'Hoa/month' utilizing the min function from numpy.\n",
    "print('Minimum value for Hoa/month', np.min(df['Hoa/month']))"
   ]
  },
  {
   "cell_type": "markdown",
   "metadata": {},
   "source": [
    "As observed, the minimum value is listed as 1. I infer from this that some properties don't have HOA fees, but these fees were not reported. Additionally, there may be properties with no lot size listed when sold, which could also be represented as missing data rather than zero."
   ]
  },
  {
   "cell_type": "code",
   "execution_count": 454,
   "metadata": {},
   "outputs": [
    {
     "data": {
      "text/plain": [
       "City                   0\n",
       "Zip or postal code     0\n",
       "Price                  0\n",
       "Beds                   0\n",
       "Baths                  0\n",
       "Location              38\n",
       "Square feet            0\n",
       "Lot size               8\n",
       "Year built            71\n",
       "Hoa/month              0\n",
       "dtype: int64"
      ]
     },
     "execution_count": 454,
     "metadata": {},
     "output_type": "execute_result"
    }
   ],
   "source": [
    "# Filling in all the missing values in the 'Hoa/month' variable with 0.\n",
    "df['Hoa/month'].fillna(0, inplace=True)\n",
    "\n",
    "# Viewing how many missing values are in our dataframe.\n",
    "df.isnull().sum()"
   ]
  },
  {
   "cell_type": "markdown",
   "metadata": {},
   "source": [
    "With the three columns that still have missing values, we need to address them through imputation. We will use two different types of imputation:\n",
    "\n",
    "1. Median Imputation\n",
    "2. Most Frequent Category Imputation\n",
    "\n",
    "Median imputation will be used for 'Lot size' and 'Year built' since they are both numerical variables. If there is skewness in these variables, the median will serve as a more accurate measure of central tendency.\n",
    "\n",
    "Most frequent category imputation will be used for 'Location' because it is a categorical variable."
   ]
  },
  {
   "cell_type": "code",
   "execution_count": 455,
   "metadata": {},
   "outputs": [],
   "source": [
    "# Importing SimpleImputer fnction from sklearn\n",
    "from sklearn.impute import SimpleImputer\n",
    "\n",
    "# Creating simple imputer for categorical features and numerical features.\n",
    "cat_imput = SimpleImputer(strategy='most_frequent')\n",
    "num_imput = SimpleImputer(strategy='median')"
   ]
  },
  {
   "cell_type": "code",
   "execution_count": 456,
   "metadata": {},
   "outputs": [
    {
     "data": {
      "text/plain": [
       "City                  0\n",
       "Zip or postal code    0\n",
       "Price                 0\n",
       "Beds                  0\n",
       "Baths                 0\n",
       "Location              0\n",
       "Square feet           0\n",
       "Lot size              0\n",
       "Year built            0\n",
       "Hoa/month             0\n",
       "dtype: int64"
      ]
     },
     "execution_count": 456,
     "metadata": {},
     "output_type": "execute_result"
    }
   ],
   "source": [
    "# Fitting and tranforming the categorical imputer on the categorical variable.\n",
    "df['Location'] = cat_imput.fit_transform(df[['Location']]).ravel()\n",
    "\n",
    "# Fitting and transforming the numerical imputer on the numerical variables.\n",
    "df[['Lot size','Year built']] = num_imput.fit_transform(df[['Lot size','Year built']])\n",
    "\n",
    "# Viewing how many missing values there are per column in our dataframe.\n",
    "df.isnull().sum()"
   ]
  },
  {
   "cell_type": "markdown",
   "metadata": {},
   "source": [
    "## Target Variable Analysis"
   ]
  },
  {
   "cell_type": "code",
   "execution_count": 457,
   "metadata": {},
   "outputs": [
    {
     "name": "stdout",
     "output_type": "stream",
     "text": [
      "count    1.598000e+03\n",
      "mean     5.414798e+05\n",
      "std      3.358772e+05\n",
      "min      1.400000e+05\n",
      "25%      3.500000e+05\n",
      "50%      4.500000e+05\n",
      "75%      6.199875e+05\n",
      "max      4.750000e+06\n",
      "Name: Price, dtype: float64\n"
     ]
    },
    {
     "data": {
      "image/png": "[encoded data removed]",
      "text/plain": [
       "<Figure size 640x480 with 1 Axes>"
      ]
     },
     "metadata": {},
     "output_type": "display_data"
    }
   ],
   "source": [
    "# Importing data visualization libraries/function (seaborn and matplotlib.pyplot).\n",
    "import seaborn as sns\n",
    "import matplotlib.pyplot as plt\n",
    "\n",
    "# Viewing the summary stats for the 'Price' variable.\n",
    "print(df['Price'].describe())\n",
    "\n",
    "# Creating histogram for the 'Price' variable.\n",
    "sns.histplot(df['Price'])\n",
    "plt.title('Selling Price Histogram')\n",
    "plt.show()"
   ]
  },
  {
   "cell_type": "markdown",
   "metadata": {},
   "source": [
    "The two pieces of output provide valuable insights. Firstly, the median selling price is $450,000, with a standard deviation of around $336,000, indicating a notable level of variability. \n",
    "\n",
    "Secondly, the histogram reveals that most selling prices are below $1,000,000. Additionally, since a greater number of selling prices occur on the left side of the graph, this suggests that our target variable is positively skewed. Transforming it could potentially lead to better results in the future."
   ]
  },
  {
   "cell_type": "markdown",
   "metadata": {},
   "source": [
    "## Predictor Variable Analysis"
   ]
  },
  {
   "cell_type": "code",
   "execution_count": 458,
   "metadata": {},
   "outputs": [],
   "source": [
    "# Specifying two lists with names of numerical variables and categorical variables.\n",
    "num_feat = ['Beds','Baths','Square feet','Lot size','Hoa/month','Year built']\n",
    "cat_feat = ['City','Zip or postal code','Location']"
   ]
  },
  {
   "cell_type": "markdown",
   "metadata": {},
   "source": [
    "### Numerical Predictor Variables"
   ]
  },
  {
   "cell_type": "code",
   "execution_count": 459,
   "metadata": {},
   "outputs": [
    {
     "data": {
      "text/html": [
       "<div>\n",
       "<style scoped>\n",
       "    .dataframe tbody tr th:only-of-type {\n",
       "        vertical-align: middle;\n",
       "    }\n",
       "\n",
       "    .dataframe tbody tr th {\n",
       "        vertical-align: top;\n",
       "    }\n",
       "\n",
       "    .dataframe thead th {\n",
       "        text-align: right;\n",
       "    }\n",
       "</style>\n",
       "<table border=\"1\" class=\"dataframe\">\n",
       "  <thead>\n",
       "    <tr style=\"text-align: right;\">\n",
       "      <th></th>\n",
       "      <th>Beds</th>\n",
       "      <th>Baths</th>\n",
       "      <th>Square feet</th>\n",
       "      <th>Lot size</th>\n",
       "      <th>Hoa/month</th>\n",
       "      <th>Year built</th>\n",
       "    </tr>\n",
       "  </thead>\n",
       "  <tbody>\n",
       "    <tr>\n",
       "      <th>count</th>\n",
       "      <td>1598.000000</td>\n",
       "      <td>1598.000000</td>\n",
       "      <td>1598.000000</td>\n",
       "      <td>1.598000e+03</td>\n",
       "      <td>1598.000000</td>\n",
       "      <td>1598.000000</td>\n",
       "    </tr>\n",
       "    <tr>\n",
       "      <th>mean</th>\n",
       "      <td>3.742804</td>\n",
       "      <td>3.009387</td>\n",
       "      <td>2661.032541</td>\n",
       "      <td>1.608741e+04</td>\n",
       "      <td>48.721527</td>\n",
       "      <td>1986.764080</td>\n",
       "    </tr>\n",
       "    <tr>\n",
       "      <th>std</th>\n",
       "      <td>0.837181</td>\n",
       "      <td>1.077132</td>\n",
       "      <td>1158.733116</td>\n",
       "      <td>6.564215e+04</td>\n",
       "      <td>88.896840</td>\n",
       "      <td>24.791025</td>\n",
       "    </tr>\n",
       "    <tr>\n",
       "      <th>min</th>\n",
       "      <td>1.000000</td>\n",
       "      <td>1.000000</td>\n",
       "      <td>576.000000</td>\n",
       "      <td>1.000000e+00</td>\n",
       "      <td>0.000000</td>\n",
       "      <td>1860.000000</td>\n",
       "    </tr>\n",
       "    <tr>\n",
       "      <th>25%</th>\n",
       "      <td>3.000000</td>\n",
       "      <td>2.500000</td>\n",
       "      <td>1779.250000</td>\n",
       "      <td>8.776250e+03</td>\n",
       "      <td>0.000000</td>\n",
       "      <td>1967.000000</td>\n",
       "    </tr>\n",
       "    <tr>\n",
       "      <th>50%</th>\n",
       "      <td>4.000000</td>\n",
       "      <td>3.000000</td>\n",
       "      <td>2508.000000</td>\n",
       "      <td>1.069150e+04</td>\n",
       "      <td>17.000000</td>\n",
       "      <td>1990.000000</td>\n",
       "    </tr>\n",
       "    <tr>\n",
       "      <th>75%</th>\n",
       "      <td>4.000000</td>\n",
       "      <td>3.500000</td>\n",
       "      <td>3279.750000</td>\n",
       "      <td>1.350300e+04</td>\n",
       "      <td>58.000000</td>\n",
       "      <td>2003.000000</td>\n",
       "    </tr>\n",
       "    <tr>\n",
       "      <th>max</th>\n",
       "      <td>7.000000</td>\n",
       "      <td>8.500000</td>\n",
       "      <td>7791.000000</td>\n",
       "      <td>1.844330e+06</td>\n",
       "      <td>1150.000000</td>\n",
       "      <td>2024.000000</td>\n",
       "    </tr>\n",
       "  </tbody>\n",
       "</table>\n",
       "</div>"
      ],
      "text/plain": [
       "              Beds        Baths  Square feet      Lot size    Hoa/month  \\\n",
       "count  1598.000000  1598.000000  1598.000000  1.598000e+03  1598.000000   \n",
       "mean      3.742804     3.009387  2661.032541  1.608741e+04    48.721527   \n",
       "std       0.837181     1.077132  1158.733116  6.564215e+04    88.896840   \n",
       "min       1.000000     1.000000   576.000000  1.000000e+00     0.000000   \n",
       "25%       3.000000     2.500000  1779.250000  8.776250e+03     0.000000   \n",
       "50%       4.000000     3.000000  2508.000000  1.069150e+04    17.000000   \n",
       "75%       4.000000     3.500000  3279.750000  1.350300e+04    58.000000   \n",
       "max       7.000000     8.500000  7791.000000  1.844330e+06  1150.000000   \n",
       "\n",
       "        Year built  \n",
       "count  1598.000000  \n",
       "mean   1986.764080  \n",
       "std      24.791025  \n",
       "min    1860.000000  \n",
       "25%    1967.000000  \n",
       "50%    1990.000000  \n",
       "75%    2003.000000  \n",
       "max    2024.000000  "
      ]
     },
     "execution_count": 459,
     "metadata": {},
     "output_type": "execute_result"
    }
   ],
   "source": [
    "# Viewing the summary stats for each numerical predictor variable.\n",
    "df[num_feat].describe()"
   ]
  },
  {
   "cell_type": "markdown",
   "metadata": {},
   "source": [
    "While the output above may not have significant implications, it highlights some important considerations. For instance, the mean values for each variable differ from their respective median (50%) values, suggesting that our variables may be skewed. Although this isn't a major issue, transforming these variables to reduce skewness could yield better results. Additionally, some values are single digits while others are in the quadruple digits. This difference in scale can cause larger values to carry more weight, potentially underrepresenting the smaller-value variables. Therefore, transforming our variables to a consistent scale could enhance our results."
   ]
  },
  {
   "cell_type": "code",
   "execution_count": 460,
   "metadata": {},
   "outputs": [
    {
     "data": {
      "image/png": "[encoded data removed]",
      "text/plain": [
       "<Figure size 1150x900 with 6 Axes>"
      ]
     },
     "metadata": {},
     "output_type": "display_data"
    }
   ],
   "source": [
    "# Viewing the histograms for each numerical variable.\n",
    "df[num_feat].hist(figsize=(11.5,9), bins=50)\n",
    "plt.show()"
   ]
  },
  {
   "cell_type": "markdown",
   "metadata": {},
   "source": [
    "Most numerical variables are positively skewed, particularly 'Lot Size', which may need transformation. It’s unclear why this variable is so skewed, so further investigation might be beneficial.\n",
    "\n",
    "Additionally, the 'Year Built' variable is an outlier and appears negatively skewed, indicating that most properties are newer, with fewer older homes present."
   ]
  },
  {
   "cell_type": "markdown",
   "metadata": {},
   "source": [
    "### Categorical Predictor Variables Analysis"
   ]
  },
  {
   "cell_type": "code",
   "execution_count": 461,
   "metadata": {},
   "outputs": [
    {
     "name": "stdout",
     "output_type": "stream",
     "text": [
      "The 'City' column has 15 different categories.\n",
      "\n",
      "The 'Zip or postal code' column has 30 different categories.\n",
      "\n",
      "The 'Location' column has 702 different categories.\n",
      "\n"
     ]
    }
   ],
   "source": [
    "# Creating a for loop that will reveal how many different values occur in each categorical variable.\n",
    "for i in cat_feat:\n",
    "    print(f'The \\'{i}\\' column has',len(df[i].value_counts()),'different categories.')\n",
    "    print()  "
   ]
  },
  {
   "attachments": {
    "image.png": {
     "image/png": "[encoded data removed]"
    }
   },
   "cell_type": "markdown",
   "metadata": {},
   "source": [
    "As observed from above, there are 15 different 'City' options, 30 different 'Zip or postal code' options, and 702 different 'Location' options. Referencing my earlier statements, the three categorical variables will need to be tranformed numerically.\n",
    "The below photo will be a visual representation of what will be happening (dummy encoding).\n",
    "\n",
    "![image.png](attachment:image.png)\n",
    "\n",
    "Initially, we have one column on the left, which houses all the 'Zip or postal code' values. For each unique value, a new column is created. If that value occurs in a particular row, a 1 is entered in the corresponding column, while 0s are entered in the remaining columns (dummy encoding)."
   ]
  },
  {
   "cell_type": "markdown",
   "metadata": {},
   "source": [
    "Considering what we've discussed, we realize that this process will generate over 700 new columns in our DataFrame. With only about 1700 rows, the additional columns probably won’t significantly slow down calculations. However, in real-world scenarios, these extra columns could lead to time constraints. To keep things simple, I won’t utilize the 'Location' variable, as I don’t want to deal with the additional 700 columns required."
   ]
  },
  {
   "cell_type": "code",
   "execution_count": 462,
   "metadata": {},
   "outputs": [
    {
     "data": {
      "text/html": [
       "<div>\n",
       "<style scoped>\n",
       "    .dataframe tbody tr th:only-of-type {\n",
       "        vertical-align: middle;\n",
       "    }\n",
       "\n",
       "    .dataframe tbody tr th {\n",
       "        vertical-align: top;\n",
       "    }\n",
       "\n",
       "    .dataframe thead th {\n",
       "        text-align: right;\n",
       "    }\n",
       "</style>\n",
       "<table border=\"1\" class=\"dataframe\">\n",
       "  <thead>\n",
       "    <tr style=\"text-align: right;\">\n",
       "      <th></th>\n",
       "      <th>Price</th>\n",
       "      <th>Beds</th>\n",
       "      <th>Baths</th>\n",
       "      <th>Square feet</th>\n",
       "      <th>Lot size</th>\n",
       "      <th>Year built</th>\n",
       "      <th>Hoa/month</th>\n",
       "      <th>City_Gardner</th>\n",
       "      <th>City_Leawood</th>\n",
       "      <th>City_Lenexa</th>\n",
       "      <th>...</th>\n",
       "      <th>Zip or postal code_66215.0</th>\n",
       "      <th>Zip or postal code_66216.0</th>\n",
       "      <th>Zip or postal code_66218.0</th>\n",
       "      <th>Zip or postal code_66219.0</th>\n",
       "      <th>Zip or postal code_66220.0</th>\n",
       "      <th>Zip or postal code_66221.0</th>\n",
       "      <th>Zip or postal code_66223.0</th>\n",
       "      <th>Zip or postal code_66224.0</th>\n",
       "      <th>Zip or postal code_66225.0</th>\n",
       "      <th>Zip or postal code_66226.0</th>\n",
       "    </tr>\n",
       "  </thead>\n",
       "  <tbody>\n",
       "    <tr>\n",
       "      <th>1</th>\n",
       "      <td>695000.0</td>\n",
       "      <td>4.0</td>\n",
       "      <td>2.5</td>\n",
       "      <td>3356.0</td>\n",
       "      <td>16223.0</td>\n",
       "      <td>1963.0</td>\n",
       "      <td>7.0</td>\n",
       "      <td>0</td>\n",
       "      <td>0</td>\n",
       "      <td>0</td>\n",
       "      <td>...</td>\n",
       "      <td>0</td>\n",
       "      <td>0</td>\n",
       "      <td>0</td>\n",
       "      <td>0</td>\n",
       "      <td>0</td>\n",
       "      <td>0</td>\n",
       "      <td>0</td>\n",
       "      <td>0</td>\n",
       "      <td>0</td>\n",
       "      <td>0</td>\n",
       "    </tr>\n",
       "    <tr>\n",
       "      <th>2</th>\n",
       "      <td>469900.0</td>\n",
       "      <td>3.0</td>\n",
       "      <td>3.0</td>\n",
       "      <td>2540.0</td>\n",
       "      <td>8777.0</td>\n",
       "      <td>2004.0</td>\n",
       "      <td>46.0</td>\n",
       "      <td>0</td>\n",
       "      <td>0</td>\n",
       "      <td>0</td>\n",
       "      <td>...</td>\n",
       "      <td>0</td>\n",
       "      <td>0</td>\n",
       "      <td>0</td>\n",
       "      <td>0</td>\n",
       "      <td>0</td>\n",
       "      <td>0</td>\n",
       "      <td>0</td>\n",
       "      <td>0</td>\n",
       "      <td>0</td>\n",
       "      <td>1</td>\n",
       "    </tr>\n",
       "    <tr>\n",
       "      <th>3</th>\n",
       "      <td>600000.0</td>\n",
       "      <td>4.0</td>\n",
       "      <td>3.0</td>\n",
       "      <td>3185.0</td>\n",
       "      <td>3733.0</td>\n",
       "      <td>2008.0</td>\n",
       "      <td>0.0</td>\n",
       "      <td>0</td>\n",
       "      <td>0</td>\n",
       "      <td>1</td>\n",
       "      <td>...</td>\n",
       "      <td>0</td>\n",
       "      <td>0</td>\n",
       "      <td>0</td>\n",
       "      <td>1</td>\n",
       "      <td>0</td>\n",
       "      <td>0</td>\n",
       "      <td>0</td>\n",
       "      <td>0</td>\n",
       "      <td>0</td>\n",
       "      <td>0</td>\n",
       "    </tr>\n",
       "    <tr>\n",
       "      <th>5</th>\n",
       "      <td>4275417.0</td>\n",
       "      <td>5.0</td>\n",
       "      <td>6.5</td>\n",
       "      <td>6680.0</td>\n",
       "      <td>13877.0</td>\n",
       "      <td>2024.0</td>\n",
       "      <td>816.0</td>\n",
       "      <td>0</td>\n",
       "      <td>0</td>\n",
       "      <td>0</td>\n",
       "      <td>...</td>\n",
       "      <td>0</td>\n",
       "      <td>0</td>\n",
       "      <td>0</td>\n",
       "      <td>0</td>\n",
       "      <td>0</td>\n",
       "      <td>0</td>\n",
       "      <td>0</td>\n",
       "      <td>0</td>\n",
       "      <td>0</td>\n",
       "      <td>0</td>\n",
       "    </tr>\n",
       "    <tr>\n",
       "      <th>6</th>\n",
       "      <td>400000.0</td>\n",
       "      <td>3.0</td>\n",
       "      <td>2.5</td>\n",
       "      <td>1188.0</td>\n",
       "      <td>8399.0</td>\n",
       "      <td>1948.0</td>\n",
       "      <td>0.0</td>\n",
       "      <td>0</td>\n",
       "      <td>0</td>\n",
       "      <td>0</td>\n",
       "      <td>...</td>\n",
       "      <td>0</td>\n",
       "      <td>0</td>\n",
       "      <td>0</td>\n",
       "      <td>0</td>\n",
       "      <td>0</td>\n",
       "      <td>0</td>\n",
       "      <td>0</td>\n",
       "      <td>0</td>\n",
       "      <td>0</td>\n",
       "      <td>0</td>\n",
       "    </tr>\n",
       "  </tbody>\n",
       "</table>\n",
       "<p>5 rows × 50 columns</p>\n",
       "</div>"
      ],
      "text/plain": [
       "       Price  Beds  Baths  Square feet  Lot size  Year built  Hoa/month  \\\n",
       "1   695000.0   4.0    2.5       3356.0   16223.0      1963.0        7.0   \n",
       "2   469900.0   3.0    3.0       2540.0    8777.0      2004.0       46.0   \n",
       "3   600000.0   4.0    3.0       3185.0    3733.0      2008.0        0.0   \n",
       "5  4275417.0   5.0    6.5       6680.0   13877.0      2024.0      816.0   \n",
       "6   400000.0   3.0    2.5       1188.0    8399.0      1948.0        0.0   \n",
       "\n",
       "   City_Gardner  City_Leawood  City_Lenexa  ...  Zip or postal code_66215.0  \\\n",
       "1             0             0            0  ...                           0   \n",
       "2             0             0            0  ...                           0   \n",
       "3             0             0            1  ...                           0   \n",
       "5             0             0            0  ...                           0   \n",
       "6             0             0            0  ...                           0   \n",
       "\n",
       "   Zip or postal code_66216.0  Zip or postal code_66218.0  \\\n",
       "1                           0                           0   \n",
       "2                           0                           0   \n",
       "3                           0                           0   \n",
       "5                           0                           0   \n",
       "6                           0                           0   \n",
       "\n",
       "   Zip or postal code_66219.0  Zip or postal code_66220.0  \\\n",
       "1                           0                           0   \n",
       "2                           0                           0   \n",
       "3                           1                           0   \n",
       "5                           0                           0   \n",
       "6                           0                           0   \n",
       "\n",
       "   Zip or postal code_66221.0  Zip or postal code_66223.0  \\\n",
       "1                           0                           0   \n",
       "2                           0                           0   \n",
       "3                           0                           0   \n",
       "5                           0                           0   \n",
       "6                           0                           0   \n",
       "\n",
       "   Zip or postal code_66224.0  Zip or postal code_66225.0  \\\n",
       "1                           0                           0   \n",
       "2                           0                           0   \n",
       "3                           0                           0   \n",
       "5                           0                           0   \n",
       "6                           0                           0   \n",
       "\n",
       "   Zip or postal code_66226.0  \n",
       "1                           0  \n",
       "2                           1  \n",
       "3                           0  \n",
       "5                           0  \n",
       "6                           0  \n",
       "\n",
       "[5 rows x 50 columns]"
      ]
     },
     "execution_count": 462,
     "metadata": {},
     "output_type": "execute_result"
    }
   ],
   "source": [
    "# Respecifyign the cat_feat list and deleting the 'Location' variable from our dataframe.\n",
    "cat_feat = ['City','Zip or postal code']\n",
    "del df['Location']\n",
    "\n",
    "''' Creating new dataframe using the get_dummies function from pandas.\n",
    "    columns parameter are the column names to be changed, from 'City' to 'City_Olathe', same for 'Zip or postal code'.\n",
    "    drop_first parameter drops the first column in order to help minimize multicollinearity.\n",
    "'''    \n",
    "cat_one_hot_encod = pd.get_dummies(df[cat_feat], columns=cat_feat, drop_first=True)\n",
    "\n",
    "# Initally recieved dataframe with True and False values instead of numbers, so the below will transform True and False into 1's and 0's.\n",
    "cat_one_hot_encod = cat_one_hot_encod.astype(int)\n",
    "\n",
    "# Concating our original dataframe with the new dataframe with all the dummy variables.\n",
    "df = pd.concat([df,cat_one_hot_encod], axis=1)\n",
    "\n",
    "# Deleting the 'City' and 'Zip or postal code' variables as we now have dummy variables for each.\n",
    "del df['City']\n",
    "del df['Zip or postal code']\n",
    "\n",
    "# Viewing first 5 rows of new dataframe.\n",
    "df.head()"
   ]
  },
  {
   "cell_type": "markdown",
   "metadata": {},
   "source": [
    "## Correlation Analysis"
   ]
  },
  {
   "cell_type": "code",
   "execution_count": 463,
   "metadata": {},
   "outputs": [
    {
     "data": {
      "image/png": "[encoded data removed]",
      "text/plain": [
       "<Figure size 640x480 with 2 Axes>"
      ]
     },
     "metadata": {},
     "output_type": "display_data"
    }
   ],
   "source": [
    "# Creating a correlation matrix between target and og numerical variables.\n",
    "corr_m = df[['Price','Beds','Baths','Year built','Square feet','Lot size']].corr()\n",
    "sns.heatmap(corr_m, cmap='Greens')\n",
    "plt.show()"
   ]
  },
  {
   "cell_type": "markdown",
   "metadata": {},
   "source": [
    "While we could include the categorical variables when calculating the correlations, it would be simpler to include only the numerical variables. In the plot above, the darker the color, the greater the correlation. For our 'Price' variable, from strongest to weakest correlations, the predictor variables are 'Square feet', 'Baths', 'Bedrooms', 'Year Built', and 'Lot size'. A darker color is beneficial for the correlation between a predictor variable and the target variable. However, a darker color between two predictor variables could indicate potential multicollinearity issues."
   ]
  },
  {
   "cell_type": "markdown",
   "metadata": {},
   "source": [
    "## Splitting up the Data"
   ]
  },
  {
   "cell_type": "code",
   "execution_count": 464,
   "metadata": {},
   "outputs": [],
   "source": [
    "# Importing train_test_split function from sklearn.\n",
    "from sklearn.model_selection import train_test_split\n",
    "\n",
    "''' Splitting up our data into a training set with 70% of the orginal data with the remaining 30% becoming a testing set.\n",
    "    Random state was specified so the same training and testing sets would be produced each time the code cell was run as long \n",
    "    as the data remains the same.\n",
    "'''\n",
    "train_df, test_df = train_test_split(df, test_size=0.30, random_state=42) \n",
    "train_df.to_csv('train_df.csv')\n",
    "test_df.to_csv('test_df.csv')"
   ]
  },
  {
   "cell_type": "markdown",
   "metadata": {},
   "source": [
    "## Conclusion:"
   ]
  },
  {
   "cell_type": "markdown",
   "metadata": {},
   "source": [
    "Now that our data has been split up, we can begin to predict the selling price for Single Family Residental properties in the next notebook."
   ]
  }
 ],
 "metadata": {
  "kernelspec": {
   "display_name": "Python 3",
   "language": "python",
   "name": "python3"
  },
  "language_info": {
   "codemirror_mode": {
    "name": "ipython",
    "version": 3
   },
   "file_extension": ".py",
   "mimetype": "text/x-python",
   "name": "python",
   "nbconvert_exporter": "python",
   "pygments_lexer": "ipython3",
   "version": "3.11.1"
  }
 },
 "nbformat": 4,
 "nbformat_minor": 2
}
